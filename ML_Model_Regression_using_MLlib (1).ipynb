{
  "cells": [
    {
      "cell_type": "code",
      "execution_count": null,
      "metadata": {
        "colab": {
          "base_uri": "https://localhost:8080/"
        },
        "id": "cMAbh_ygXlPW",
        "outputId": "b7ae5c8b-c41c-431c-ae78-b43ee5a94867"
      },
      "outputs": [
        {
          "name": "stdout",
          "output_type": "stream",
          "text": [
            "Collecting pyspark\n",
            "  Downloading pyspark-3.4.1.tar.gz (310.8 MB)\n",
            "\u001b[2K     \u001b[90m━━━━━━━━━━━━━━━━━━━━━━━━━━━━━━━━━━━━━━━\u001b[0m \u001b[32m310.8/310.8 MB\u001b[0m \u001b[31m4.5 MB/s\u001b[0m eta \u001b[36m0:00:00\u001b[0m\n",
            "\u001b[?25h  Preparing metadata (setup.py) ... \u001b[?25l\u001b[?25hdone\n",
            "Requirement already satisfied: py4j==0.10.9.7 in /usr/local/lib/python3.10/dist-packages (from pyspark) (0.10.9.7)\n",
            "Building wheels for collected packages: pyspark\n",
            "  Building wheel for pyspark (setup.py) ... \u001b[?25l\u001b[?25hdone\n",
            "  Created wheel for pyspark: filename=pyspark-3.4.1-py2.py3-none-any.whl size=311285398 sha256=132bd84b880d7b4631c2a2b42f6fbff97d7cf8436e3cd9581f5df2123e423193\n",
            "  Stored in directory: /root/.cache/pip/wheels/0d/77/a3/ff2f74cc9ab41f8f594dabf0579c2a7c6de920d584206e0834\n",
            "Successfully built pyspark\n",
            "Installing collected packages: pyspark\n",
            "Successfully installed pyspark-3.4.1\n"
          ]
        }
      ],
      "source": [
        "pip install pyspark"
      ]
    },
    {
      "cell_type": "code",
      "execution_count": 2,
      "metadata": {
        "id": "DQDUwI0cFyel"
      },
      "outputs": [],
      "source": [
        "from pyspark.sql import SparkSession\n",
        "\n",
        "# Create Spark session\n",
        "spark = SparkSession.builder \\\n",
        "    .appName(\"PySpark Regression Example\") \\\n",
        "    .master(\"local[*]\") \\\n",
        "    .getOrCreate()"
      ]
    },
    {
      "cell_type": "code",
      "execution_count": 3,
      "metadata": {
        "id": "omcHlM3TF0Ou"
      },
      "outputs": [],
      "source": [
        "#spark.stop()"
      ]
    },
    {
      "cell_type": "code",
      "execution_count": 4,
      "metadata": {
        "id": "fOOyaBThXSMO",
        "colab": {
          "base_uri": "https://localhost:8080/"
        },
        "outputId": "3c9368fd-4820-4f34-9fdc-c54db65e8fb6"
      },
      "outputs": [
        {
          "output_type": "stream",
          "name": "stdout",
          "text": [
            "+--------+------+-------+----------+------------+-------------+---------------+-----------------+----------+----------------+--------------+-------------+\n",
            "| Loan_ID|Gender|Married|Dependents|   Education|Self_Employed|ApplicantIncome|CoapplicantIncome|LoanAmount|Loan_Amount_Term|Credit_History|Property_Area|\n",
            "+--------+------+-------+----------+------------+-------------+---------------+-----------------+----------+----------------+--------------+-------------+\n",
            "|LP001015|  Male|    Yes|         0|    Graduate|           No|           5720|                0|       110|             360|             1|        Urban|\n",
            "|LP001022|  Male|    Yes|         1|    Graduate|           No|           3076|             1500|       126|             360|             1|        Urban|\n",
            "|LP001031|  Male|    Yes|         2|    Graduate|           No|           5000|             1800|       208|             360|             1|        Urban|\n",
            "|LP001035|  Male|    Yes|         2|    Graduate|           No|           2340|             2546|       100|             360|          NULL|        Urban|\n",
            "|LP001051|  Male|     No|         0|Not Graduate|           No|           3276|                0|        78|             360|             1|        Urban|\n",
            "|LP001054|  Male|    Yes|         0|Not Graduate|          Yes|           2165|             3422|       152|             360|             1|        Urban|\n",
            "|LP001055|Female|     No|         1|Not Graduate|           No|           2226|                0|        59|             360|             1|    Semiurban|\n",
            "|LP001056|  Male|    Yes|         2|Not Graduate|           No|           3881|                0|       147|             360|             0|        Rural|\n",
            "|LP001059|  Male|    Yes|         2|    Graduate|         NULL|          13633|                0|       280|             240|             1|        Urban|\n",
            "|LP001067|  Male|     No|         0|Not Graduate|           No|           2400|             2400|       123|             360|             1|    Semiurban|\n",
            "|LP001078|  Male|     No|         0|Not Graduate|           No|           3091|                0|        90|             360|             1|        Urban|\n",
            "|LP001082|  Male|    Yes|         1|    Graduate|         NULL|           2185|             1516|       162|             360|             1|    Semiurban|\n",
            "|LP001083|  Male|     No|        3+|    Graduate|           No|           4166|                0|        40|             180|          NULL|        Urban|\n",
            "|LP001094|  Male|    Yes|         2|    Graduate|         NULL|          12173|                0|       166|             360|             0|    Semiurban|\n",
            "|LP001096|Female|     No|         0|    Graduate|           No|           4666|                0|       124|             360|             1|    Semiurban|\n",
            "|LP001099|  Male|     No|         1|    Graduate|           No|           5667|                0|       131|             360|             1|        Urban|\n",
            "|LP001105|  Male|    Yes|         2|    Graduate|           No|           4583|             2916|       200|             360|             1|        Urban|\n",
            "|LP001107|  Male|    Yes|        3+|    Graduate|           No|           3786|              333|       126|             360|             1|    Semiurban|\n",
            "|LP001108|  Male|    Yes|         0|    Graduate|           No|           9226|             7916|       300|             360|             1|        Urban|\n",
            "|LP001115|  Male|     No|         0|    Graduate|           No|           1300|             3470|       100|             180|             1|    Semiurban|\n",
            "+--------+------+-------+----------+------------+-------------+---------------+-----------------+----------+----------------+--------------+-------------+\n",
            "only showing top 20 rows\n",
            "\n"
          ]
        }
      ],
      "source": [
        "df = spark.read.csv(\"loan_prediction.csv\", header=True, inferSchema=True)\n",
        "df.show()"
      ]
    },
    {
      "cell_type": "code",
      "source": [
        "df"
      ],
      "metadata": {
        "colab": {
          "base_uri": "https://localhost:8080/"
        },
        "id": "EFrBBQwvYMX_",
        "outputId": "7350e576-5643-486a-85bd-4089a21ad4d0"
      },
      "execution_count": 5,
      "outputs": [
        {
          "output_type": "execute_result",
          "data": {
            "text/plain": [
              "DataFrame[Loan_ID: string, Gender: string, Married: string, Dependents: string, Education: string, Self_Employed: string, ApplicantIncome: int, CoapplicantIncome: int, LoanAmount: int, Loan_Amount_Term: int, Credit_History: int, Property_Area: string]"
            ]
          },
          "metadata": {},
          "execution_count": 5
        }
      ]
    },
    {
      "cell_type": "code",
      "source": [
        "# Number of rows\n",
        "num_rows = df.count()\n",
        "\n",
        "# Number of columns\n",
        "num_cols = len(df.columns)\n",
        "\n",
        "# Print shape\n",
        "print(f\"Shape: ({num_rows}, {num_cols})\")\n"
      ],
      "metadata": {
        "colab": {
          "base_uri": "https://localhost:8080/"
        },
        "id": "Uxtx1WTZTgdi",
        "outputId": "404919e9-af90-4aca-c76c-e548f3179c6d"
      },
      "execution_count": 6,
      "outputs": [
        {
          "output_type": "stream",
          "name": "stdout",
          "text": [
            "Shape: (367, 12)\n"
          ]
        }
      ]
    },
    {
      "cell_type": "code",
      "execution_count": 7,
      "metadata": {
        "colab": {
          "base_uri": "https://localhost:8080/"
        },
        "id": "O-GPO0oIYvN6",
        "outputId": "96539113-ce51-4596-bcf9-6e7edc131a14"
      },
      "outputs": [
        {
          "output_type": "stream",
          "name": "stdout",
          "text": [
            "root\n",
            " |-- Loan_ID: string (nullable = true)\n",
            " |-- Gender: string (nullable = true)\n",
            " |-- Married: string (nullable = true)\n",
            " |-- Dependents: string (nullable = true)\n",
            " |-- Education: string (nullable = true)\n",
            " |-- Self_Employed: string (nullable = true)\n",
            " |-- ApplicantIncome: integer (nullable = true)\n",
            " |-- CoapplicantIncome: integer (nullable = true)\n",
            " |-- LoanAmount: integer (nullable = true)\n",
            " |-- Loan_Amount_Term: integer (nullable = true)\n",
            " |-- Credit_History: integer (nullable = true)\n",
            " |-- Property_Area: string (nullable = true)\n",
            "\n"
          ]
        }
      ],
      "source": [
        "## Printing schema\n",
        "df.printSchema()"
      ]
    },
    {
      "cell_type": "code",
      "source": [
        "df.describe().show()"
      ],
      "metadata": {
        "colab": {
          "base_uri": "https://localhost:8080/"
        },
        "id": "E4s-_Md9MG4M",
        "outputId": "437dd7bf-05a0-4306-92ee-33e0513c5324"
      },
      "execution_count": 8,
      "outputs": [
        {
          "output_type": "stream",
          "name": "stdout",
          "text": [
            "+-------+--------+------+-------+-----------------+------------+-------------+-----------------+------------------+------------------+------------------+------------------+-------------+\n",
            "|summary| Loan_ID|Gender|Married|       Dependents|   Education|Self_Employed|  ApplicantIncome| CoapplicantIncome|        LoanAmount|  Loan_Amount_Term|    Credit_History|Property_Area|\n",
            "+-------+--------+------+-------+-----------------+------------+-------------+-----------------+------------------+------------------+------------------+------------------+-------------+\n",
            "|  count|     367|   356|    367|              357|         367|          344|              367|               367|               362|               361|               338|          367|\n",
            "|   mean|    NULL|  NULL|   NULL|0.555205047318612|        NULL|         NULL|4805.599455040872|1569.5776566757493|136.13259668508286|342.53739612188366|0.8254437869822485|         NULL|\n",
            "| stddev|    NULL|  NULL|   NULL|0.788131727070386|        NULL|         NULL|4910.685398980398|2334.2320986863456|61.366652393018235|   65.156643413997|0.3801498354914703|         NULL|\n",
            "|    min|LP001015|Female|     No|                0|    Graduate|           No|                0|                 0|                28|                 6|                 0|        Rural|\n",
            "|    max|LP002989|  Male|    Yes|               3+|Not Graduate|          Yes|            72529|             24000|               550|               480|                 1|        Urban|\n",
            "+-------+--------+------+-------+-----------------+------------+-------------+-----------------+------------------+------------------+------------------+------------------+-------------+\n",
            "\n"
          ]
        }
      ]
    },
    {
      "cell_type": "code",
      "source": [
        "# count no of  null values in all column\n",
        "from pyspark.sql.functions import col, isnan, when, count\n",
        "\n",
        "df.select([count(when(col(c).isNull(), c)).alias(c) for c in df.columns]).show()\n"
      ],
      "metadata": {
        "colab": {
          "base_uri": "https://localhost:8080/"
        },
        "id": "6FpuHpCSMcbz",
        "outputId": "93d7f23e-5d6b-42f5-fa4c-2f7499a10767"
      },
      "execution_count": 9,
      "outputs": [
        {
          "output_type": "stream",
          "name": "stdout",
          "text": [
            "+-------+------+-------+----------+---------+-------------+---------------+-----------------+----------+----------------+--------------+-------------+\n",
            "|Loan_ID|Gender|Married|Dependents|Education|Self_Employed|ApplicantIncome|CoapplicantIncome|LoanAmount|Loan_Amount_Term|Credit_History|Property_Area|\n",
            "+-------+------+-------+----------+---------+-------------+---------------+-----------------+----------+----------------+--------------+-------------+\n",
            "|      0|    11|      0|        10|        0|           23|              0|                0|         5|               6|            29|            0|\n",
            "+-------+------+-------+----------+---------+-------------+---------------+-----------------+----------+----------------+--------------+-------------+\n",
            "\n"
          ]
        }
      ]
    },
    {
      "cell_type": "code",
      "source": [
        "# to check individaul column null values\n",
        "df.select(count(when(col(\"Self_Employed\").isNull(), \"Self_Employed\")).alias(\"null_count\")).show()\n"
      ],
      "metadata": {
        "colab": {
          "base_uri": "https://localhost:8080/"
        },
        "id": "nIBA_R88O0r5",
        "outputId": "d18dd0df-c9ab-411b-e611-787442709c9f"
      },
      "execution_count": 10,
      "outputs": [
        {
          "output_type": "stream",
          "name": "stdout",
          "text": [
            "+----------+\n",
            "|null_count|\n",
            "+----------+\n",
            "|        23|\n",
            "+----------+\n",
            "\n"
          ]
        }
      ]
    },
    {
      "cell_type": "code",
      "source": [
        "# drop records having null values\n",
        "# df_clean = df.na.drop()\n",
        "\n",
        "# drop records in specific column\n",
        "df = df.na.drop(subset=[\"LoanAmount\"])\n",
        "df.select(count(when(col(\"LoanAmount\").isNull(), \"LoanAmount\")).alias(\"null_count\")).show()"
      ],
      "metadata": {
        "colab": {
          "base_uri": "https://localhost:8080/"
        },
        "id": "40ueiuWrSrxd",
        "outputId": "ffd433fd-39ed-481c-fad2-beee74cff287"
      },
      "execution_count": 11,
      "outputs": [
        {
          "output_type": "stream",
          "name": "stdout",
          "text": [
            "+----------+\n",
            "|null_count|\n",
            "+----------+\n",
            "|         0|\n",
            "+----------+\n",
            "\n"
          ]
        }
      ]
    },
    {
      "cell_type": "code",
      "source": [
        "# calculate mean value of ApplicantIncome\n",
        "from pyspark.sql.functions import mean\n",
        "\n",
        "mean_income = df.select(mean(col(\"ApplicantIncome\")))  # Calculate mean\n",
        "mean_income.collect()[0][0]"
      ],
      "metadata": {
        "colab": {
          "base_uri": "https://localhost:8080/"
        },
        "id": "67riwcONUcqI",
        "outputId": "148b4071-1fe9-4da1-8b50-02f138870e73"
      },
      "execution_count": 12,
      "outputs": [
        {
          "output_type": "execute_result",
          "data": {
            "text/plain": [
              "4769.513812154696"
            ]
          },
          "metadata": {},
          "execution_count": 12
        }
      ]
    },
    {
      "cell_type": "code",
      "source": [
        "# calculate man value of Loan_Amount_term\n",
        "from pyspark.sql.functions import mean\n",
        "\n",
        "mean_Loan_amount = df.select(mean(col(\"Loan_Amount_Term\"))).collect()[0][0]\n",
        "print(mean_Loan_amount)  # Calculate mean\n",
        "df= df.fillna({\"Loan_Amount_Term\": mean_Loan_amount})  # Fill missing values"
      ],
      "metadata": {
        "colab": {
          "base_uri": "https://localhost:8080/"
        },
        "id": "rgU3f-_IV8Te",
        "outputId": "90c66e58-49d4-41c7-e54a-691e1f3fc483"
      },
      "execution_count": 14,
      "outputs": [
        {
          "output_type": "stream",
          "name": "stdout",
          "text": [
            "341.939226519337\n"
          ]
        }
      ]
    },
    {
      "cell_type": "code",
      "source": [
        "print(type(mean_Loan_amount))  # Should be 'int' or 'float'"
      ],
      "metadata": {
        "colab": {
          "base_uri": "https://localhost:8080/"
        },
        "id": "A0xdfJfZr1sh",
        "outputId": "55fb7956-a6f1-4716-9e97-36373a90aceb"
      },
      "execution_count": 15,
      "outputs": [
        {
          "output_type": "stream",
          "name": "stdout",
          "text": [
            "<class 'float'>\n"
          ]
        }
      ]
    },
    {
      "cell_type": "code",
      "source": [
        "# replacing all null values in numerical column with mean\n",
        "from pyspark.sql.functions import mean, col\n",
        "\n",
        "# Identify numerical columns\n",
        "numeric_cols = [field.name for field in df.schema.fields if field.dataType.simpleString() in ['int', 'double', 'float']]\n",
        "\n",
        "# Compute mean for each numerical column\n",
        "mean_values = df.select([mean(col(c)).alias(c) for c in numeric_cols]).collect()[0].asDict()\n",
        "\n",
        "# Fill null values with corresponding mean\n",
        "df = df.fillna(mean_values)\n",
        "\n",
        "df.show()\n"
      ],
      "metadata": {
        "colab": {
          "base_uri": "https://localhost:8080/"
        },
        "id": "nytmPV5uotkm",
        "outputId": "c1790440-6a61-472f-a94c-281ca33b2254"
      },
      "execution_count": 16,
      "outputs": [
        {
          "output_type": "stream",
          "name": "stdout",
          "text": [
            "+--------+------+-------+----------+------------+-------------+---------------+-----------------+----------+----------------+--------------+-------------+\n",
            "| Loan_ID|Gender|Married|Dependents|   Education|Self_Employed|ApplicantIncome|CoapplicantIncome|LoanAmount|Loan_Amount_Term|Credit_History|Property_Area|\n",
            "+--------+------+-------+----------+------------+-------------+---------------+-----------------+----------+----------------+--------------+-------------+\n",
            "|LP001015|  Male|    Yes|         0|    Graduate|           No|           5720|                0|       110|             360|             1|        Urban|\n",
            "|LP001022|  Male|    Yes|         1|    Graduate|           No|           3076|             1500|       126|             360|             1|        Urban|\n",
            "|LP001031|  Male|    Yes|         2|    Graduate|           No|           5000|             1800|       208|             360|             1|        Urban|\n",
            "|LP001035|  Male|    Yes|         2|    Graduate|           No|           2340|             2546|       100|             360|             0|        Urban|\n",
            "|LP001051|  Male|     No|         0|Not Graduate|           No|           3276|                0|        78|             360|             1|        Urban|\n",
            "|LP001054|  Male|    Yes|         0|Not Graduate|          Yes|           2165|             3422|       152|             360|             1|        Urban|\n",
            "|LP001055|Female|     No|         1|Not Graduate|           No|           2226|                0|        59|             360|             1|    Semiurban|\n",
            "|LP001056|  Male|    Yes|         2|Not Graduate|           No|           3881|                0|       147|             360|             0|        Rural|\n",
            "|LP001059|  Male|    Yes|         2|    Graduate|         NULL|          13633|                0|       280|             240|             1|        Urban|\n",
            "|LP001067|  Male|     No|         0|Not Graduate|           No|           2400|             2400|       123|             360|             1|    Semiurban|\n",
            "|LP001078|  Male|     No|         0|Not Graduate|           No|           3091|                0|        90|             360|             1|        Urban|\n",
            "|LP001082|  Male|    Yes|         1|    Graduate|         NULL|           2185|             1516|       162|             360|             1|    Semiurban|\n",
            "|LP001083|  Male|     No|        3+|    Graduate|           No|           4166|                0|        40|             180|             0|        Urban|\n",
            "|LP001094|  Male|    Yes|         2|    Graduate|         NULL|          12173|                0|       166|             360|             0|    Semiurban|\n",
            "|LP001096|Female|     No|         0|    Graduate|           No|           4666|                0|       124|             360|             1|    Semiurban|\n",
            "|LP001099|  Male|     No|         1|    Graduate|           No|           5667|                0|       131|             360|             1|        Urban|\n",
            "|LP001105|  Male|    Yes|         2|    Graduate|           No|           4583|             2916|       200|             360|             1|        Urban|\n",
            "|LP001107|  Male|    Yes|        3+|    Graduate|           No|           3786|              333|       126|             360|             1|    Semiurban|\n",
            "|LP001108|  Male|    Yes|         0|    Graduate|           No|           9226|             7916|       300|             360|             1|        Urban|\n",
            "|LP001115|  Male|     No|         0|    Graduate|           No|           1300|             3470|       100|             180|             1|    Semiurban|\n",
            "+--------+------+-------+----------+------------+-------------+---------------+-----------------+----------+----------------+--------------+-------------+\n",
            "only showing top 20 rows\n",
            "\n"
          ]
        }
      ]
    },
    {
      "cell_type": "code",
      "source": [
        "# count no null values in all column\n",
        "from pyspark.sql.functions import col, isnan, when, count\n",
        "\n",
        "df.select([count(when(col(c).isNull(), c)).alias(c) for c in df.columns]).show()\n"
      ],
      "metadata": {
        "colab": {
          "base_uri": "https://localhost:8080/"
        },
        "id": "hEqU71gTpWxQ",
        "outputId": "13a2cb92-48bd-47e0-ad24-40097e4e4d44"
      },
      "execution_count": 17,
      "outputs": [
        {
          "output_type": "stream",
          "name": "stdout",
          "text": [
            "+-------+------+-------+----------+---------+-------------+---------------+-----------------+----------+----------------+--------------+-------------+\n",
            "|Loan_ID|Gender|Married|Dependents|Education|Self_Employed|ApplicantIncome|CoapplicantIncome|LoanAmount|Loan_Amount_Term|Credit_History|Property_Area|\n",
            "+-------+------+-------+----------+---------+-------------+---------------+-----------------+----------+----------------+--------------+-------------+\n",
            "|      0|    11|      0|         9|        0|           23|              0|                0|         0|               0|             0|            0|\n",
            "+-------+------+-------+----------+---------+-------------+---------------+-----------------+----------+----------------+--------------+-------------+\n",
            "\n"
          ]
        }
      ]
    },
    {
      "cell_type": "code",
      "source": [
        "# replacing null values in all categorical column with mode value\n",
        "from pyspark.sql.functions import col, count\n",
        "\n",
        "def get_mode(df, column):\n",
        "    \"\"\"Returns the most frequent value (mode) of a categorical column.\"\"\"\n",
        "    mode_value = df.groupBy(column).count().orderBy(col(\"count\").desc()).first()[0]\n",
        "    return mode_value\n",
        "\n",
        "# Identify categorical columns\n",
        "categorical_cols = [field.name for field in df.schema.fields if field.dataType.simpleString() == \"string\"]\n",
        "\n",
        "# Compute mode for each categorical column and fill nulls\n",
        "for col_name in categorical_cols:\n",
        "    mode_val = get_mode(df, col_name)\n",
        "    df = df.fillna({col_name: mode_val})\n",
        "\n",
        "df.show()\n"
      ],
      "metadata": {
        "colab": {
          "base_uri": "https://localhost:8080/"
        },
        "id": "HCehya5lQghB",
        "outputId": "282d1658-8ccd-4ae0-cb2e-4ac821f7b412"
      },
      "execution_count": 18,
      "outputs": [
        {
          "output_type": "stream",
          "name": "stdout",
          "text": [
            "+--------+------+-------+----------+------------+-------------+---------------+-----------------+----------+----------------+--------------+-------------+\n",
            "| Loan_ID|Gender|Married|Dependents|   Education|Self_Employed|ApplicantIncome|CoapplicantIncome|LoanAmount|Loan_Amount_Term|Credit_History|Property_Area|\n",
            "+--------+------+-------+----------+------------+-------------+---------------+-----------------+----------+----------------+--------------+-------------+\n",
            "|LP001015|  Male|    Yes|         0|    Graduate|           No|           5720|                0|       110|             360|             1|        Urban|\n",
            "|LP001022|  Male|    Yes|         1|    Graduate|           No|           3076|             1500|       126|             360|             1|        Urban|\n",
            "|LP001031|  Male|    Yes|         2|    Graduate|           No|           5000|             1800|       208|             360|             1|        Urban|\n",
            "|LP001035|  Male|    Yes|         2|    Graduate|           No|           2340|             2546|       100|             360|             0|        Urban|\n",
            "|LP001051|  Male|     No|         0|Not Graduate|           No|           3276|                0|        78|             360|             1|        Urban|\n",
            "|LP001054|  Male|    Yes|         0|Not Graduate|          Yes|           2165|             3422|       152|             360|             1|        Urban|\n",
            "|LP001055|Female|     No|         1|Not Graduate|           No|           2226|                0|        59|             360|             1|    Semiurban|\n",
            "|LP001056|  Male|    Yes|         2|Not Graduate|           No|           3881|                0|       147|             360|             0|        Rural|\n",
            "|LP001059|  Male|    Yes|         2|    Graduate|           No|          13633|                0|       280|             240|             1|        Urban|\n",
            "|LP001067|  Male|     No|         0|Not Graduate|           No|           2400|             2400|       123|             360|             1|    Semiurban|\n",
            "|LP001078|  Male|     No|         0|Not Graduate|           No|           3091|                0|        90|             360|             1|        Urban|\n",
            "|LP001082|  Male|    Yes|         1|    Graduate|           No|           2185|             1516|       162|             360|             1|    Semiurban|\n",
            "|LP001083|  Male|     No|        3+|    Graduate|           No|           4166|                0|        40|             180|             0|        Urban|\n",
            "|LP001094|  Male|    Yes|         2|    Graduate|           No|          12173|                0|       166|             360|             0|    Semiurban|\n",
            "|LP001096|Female|     No|         0|    Graduate|           No|           4666|                0|       124|             360|             1|    Semiurban|\n",
            "|LP001099|  Male|     No|         1|    Graduate|           No|           5667|                0|       131|             360|             1|        Urban|\n",
            "|LP001105|  Male|    Yes|         2|    Graduate|           No|           4583|             2916|       200|             360|             1|        Urban|\n",
            "|LP001107|  Male|    Yes|        3+|    Graduate|           No|           3786|              333|       126|             360|             1|    Semiurban|\n",
            "|LP001108|  Male|    Yes|         0|    Graduate|           No|           9226|             7916|       300|             360|             1|        Urban|\n",
            "|LP001115|  Male|     No|         0|    Graduate|           No|           1300|             3470|       100|             180|             1|    Semiurban|\n",
            "+--------+------+-------+----------+------------+-------------+---------------+-----------------+----------+----------------+--------------+-------------+\n",
            "only showing top 20 rows\n",
            "\n"
          ]
        }
      ]
    },
    {
      "cell_type": "code",
      "source": [
        "# count null values in all column\n",
        "from pyspark.sql.functions import col, isnan, when, count\n",
        "\n",
        "df.select([count(when(col(c).isNull(), c)).alias(c) for c in df.columns]).show()\n"
      ],
      "metadata": {
        "colab": {
          "base_uri": "https://localhost:8080/"
        },
        "id": "jYN9kpjbqZ6n",
        "outputId": "03ccd6e2-e886-4a29-c8c3-af54d9fcd3c3"
      },
      "execution_count": 19,
      "outputs": [
        {
          "output_type": "stream",
          "name": "stdout",
          "text": [
            "+-------+------+-------+----------+---------+-------------+---------------+-----------------+----------+----------------+--------------+-------------+\n",
            "|Loan_ID|Gender|Married|Dependents|Education|Self_Employed|ApplicantIncome|CoapplicantIncome|LoanAmount|Loan_Amount_Term|Credit_History|Property_Area|\n",
            "+-------+------+-------+----------+---------+-------------+---------------+-----------------+----------+----------------+--------------+-------------+\n",
            "|      0|     0|      0|         0|        0|            0|              0|                0|         0|               0|             0|            0|\n",
            "+-------+------+-------+----------+---------+-------------+---------------+-----------------+----------+----------------+--------------+-------------+\n",
            "\n"
          ]
        }
      ]
    },
    {
      "cell_type": "code",
      "source": [
        "# check outlier in loanamount column\n",
        "from pyspark.sql.functions import mean, stddev, col\n",
        "\n",
        "# Compute mean and standard deviation\n",
        "stats = df.select(\n",
        "    mean(col(\"LoanAmount\")).alias(\"mean\"),\n",
        "    stddev(col(\"LoanAmount\")).alias(\"stddev\")\n",
        ").collect()[0]\n",
        "\n",
        "mean_value = stats[\"mean\"]\n",
        "stddev_value = stats[\"stddev\"]\n",
        "print(mean_value)\n",
        "print(stddev_value)\n",
        "# Compute Z-score and filter outliers\n",
        "df_outliers = df.filter(\n",
        "    ((col(\"LoanAmount\") - mean_value) / stddev_value > 3) |  # Right-side outliers (Z > 3)\n",
        "    ((col(\"LoanAmount\") - mean_value) / stddev_value < -3)   # Left-side outliers (Z < -3)\n",
        ")\n",
        "\n",
        "df_outliers.show()\n"
      ],
      "metadata": {
        "colab": {
          "base_uri": "https://localhost:8080/"
        },
        "id": "feEZt85-SLCo",
        "outputId": "93c031f6-df84-42bc-fabd-9123af6afa30"
      },
      "execution_count": 20,
      "outputs": [
        {
          "output_type": "stream",
          "name": "stdout",
          "text": [
            "136.13259668508286\n",
            "61.366652393018235\n",
            "+--------+------+-------+----------+---------+-------------+---------------+-----------------+----------+----------------+--------------+-------------+\n",
            "| Loan_ID|Gender|Married|Dependents|Education|Self_Employed|ApplicantIncome|CoapplicantIncome|LoanAmount|Loan_Amount_Term|Credit_History|Property_Area|\n",
            "+--------+------+-------+----------+---------+-------------+---------------+-----------------+----------+----------------+--------------+-------------+\n",
            "|LP001428|  Male|    Yes|        3+| Graduate|           No|          72529|                0|       360|             360|             1|        Urban|\n",
            "|LP001483|  Male|    Yes|        3+| Graduate|           No|          13518|                0|       390|             360|             1|        Rural|\n",
            "|LP001791|  Male|    Yes|         0| Graduate|          Yes|          32000|                0|       550|             360|             0|    Semiurban|\n",
            "|LP002059|  Male|    Yes|         2| Graduate|           No|           7874|             3967|       336|             360|             1|        Rural|\n",
            "|LP002077|  Male|    Yes|         1| Graduate|           No|          10000|             2690|       412|             360|             1|    Semiurban|\n",
            "|LP002570|Female|    Yes|         2| Graduate|           No|          10000|            11666|       460|             360|             1|        Urban|\n",
            "+--------+------+-------+----------+---------+-------------+---------------+-----------------+----------+----------------+--------------+-------------+\n",
            "\n"
          ]
        }
      ]
    },
    {
      "cell_type": "code",
      "source": [
        "df.schema.fields"
      ],
      "metadata": {
        "colab": {
          "base_uri": "https://localhost:8080/"
        },
        "id": "SeHcKCC2W-oI",
        "outputId": "3fe8434b-dab3-4f3d-88ed-d3afe4701fac"
      },
      "execution_count": 18,
      "outputs": [
        {
          "output_type": "execute_result",
          "data": {
            "text/plain": [
              "[StructField('Loan_ID', StringType(), False),\n",
              " StructField('Gender', StringType(), False),\n",
              " StructField('Married', StringType(), False),\n",
              " StructField('Dependents', StringType(), False),\n",
              " StructField('Education', StringType(), False),\n",
              " StructField('Self_Employed', StringType(), False),\n",
              " StructField('ApplicantIncome', IntegerType(), True),\n",
              " StructField('CoapplicantIncome', IntegerType(), True),\n",
              " StructField('LoanAmount', IntegerType(), True),\n",
              " StructField('Loan_Amount_Term', IntegerType(), True),\n",
              " StructField('Credit_History', IntegerType(), True),\n",
              " StructField('Property_Area', StringType(), False)]"
            ]
          },
          "metadata": {},
          "execution_count": 18
        }
      ]
    },
    {
      "cell_type": "code",
      "source": [
        "# finding oulier bt IQR method & replacing with upper & lower boundary\n",
        "from pyspark.sql.functions import when\n",
        "\n",
        "def cap_outliers(df, column):\n",
        "    q1 = df.approxQuantile(column, [0.25], 0.01)[0]\n",
        "    q3 = df.approxQuantile(column, [0.75], 0.01)[0]\n",
        "    iqr = q3 - q1\n",
        "\n",
        "    lower_bound = q1 - (1.5 * iqr)\n",
        "    upper_bound = q3 + (1.5 * iqr)\n",
        "\n",
        "    # Replace outliers with upper/lower bound\n",
        "    return df.withColumn(column,\n",
        "                         when(col(column) < lower_bound, lower_bound)\n",
        "                         .when(col(column) > upper_bound, upper_bound)\n",
        "                         .otherwise(col(column)))\n",
        "\n",
        "# Apply function to cap outliers in a column\n",
        "df = cap_outliers(df, \"LoanAmount\")\n",
        "df.show()\n"
      ],
      "metadata": {
        "colab": {
          "base_uri": "https://localhost:8080/"
        },
        "id": "DN1_KXnlhJL7",
        "outputId": "7f03d6ed-d860-4eec-9119-dff7c90f31b0"
      },
      "execution_count": 21,
      "outputs": [
        {
          "output_type": "stream",
          "name": "stdout",
          "text": [
            "+--------+------+-------+----------+------------+-------------+---------------+-----------------+----------+----------------+--------------+-------------+\n",
            "| Loan_ID|Gender|Married|Dependents|   Education|Self_Employed|ApplicantIncome|CoapplicantIncome|LoanAmount|Loan_Amount_Term|Credit_History|Property_Area|\n",
            "+--------+------+-------+----------+------------+-------------+---------------+-----------------+----------+----------------+--------------+-------------+\n",
            "|LP001015|  Male|    Yes|         0|    Graduate|           No|           5720|                0|     110.0|             360|             1|        Urban|\n",
            "|LP001022|  Male|    Yes|         1|    Graduate|           No|           3076|             1500|     126.0|             360|             1|        Urban|\n",
            "|LP001031|  Male|    Yes|         2|    Graduate|           No|           5000|             1800|     208.0|             360|             1|        Urban|\n",
            "|LP001035|  Male|    Yes|         2|    Graduate|           No|           2340|             2546|     100.0|             360|             0|        Urban|\n",
            "|LP001051|  Male|     No|         0|Not Graduate|           No|           3276|                0|      78.0|             360|             1|        Urban|\n",
            "|LP001054|  Male|    Yes|         0|Not Graduate|          Yes|           2165|             3422|     152.0|             360|             1|        Urban|\n",
            "|LP001055|Female|     No|         1|Not Graduate|           No|           2226|                0|      59.0|             360|             1|    Semiurban|\n",
            "|LP001056|  Male|    Yes|         2|Not Graduate|           No|           3881|                0|     147.0|             360|             0|        Rural|\n",
            "|LP001059|  Male|    Yes|         2|    Graduate|           No|          13633|                0|     237.5|             240|             1|        Urban|\n",
            "|LP001067|  Male|     No|         0|Not Graduate|           No|           2400|             2400|     123.0|             360|             1|    Semiurban|\n",
            "|LP001078|  Male|     No|         0|Not Graduate|           No|           3091|                0|      90.0|             360|             1|        Urban|\n",
            "|LP001082|  Male|    Yes|         1|    Graduate|           No|           2185|             1516|     162.0|             360|             1|    Semiurban|\n",
            "|LP001083|  Male|     No|        3+|    Graduate|           No|           4166|                0|      40.0|             180|             0|        Urban|\n",
            "|LP001094|  Male|    Yes|         2|    Graduate|           No|          12173|                0|     166.0|             360|             0|    Semiurban|\n",
            "|LP001096|Female|     No|         0|    Graduate|           No|           4666|                0|     124.0|             360|             1|    Semiurban|\n",
            "|LP001099|  Male|     No|         1|    Graduate|           No|           5667|                0|     131.0|             360|             1|        Urban|\n",
            "|LP001105|  Male|    Yes|         2|    Graduate|           No|           4583|             2916|     200.0|             360|             1|        Urban|\n",
            "|LP001107|  Male|    Yes|        3+|    Graduate|           No|           3786|              333|     126.0|             360|             1|    Semiurban|\n",
            "|LP001108|  Male|    Yes|         0|    Graduate|           No|           9226|             7916|     237.5|             360|             1|        Urban|\n",
            "|LP001115|  Male|     No|         0|    Graduate|           No|           1300|             3470|     100.0|             180|             1|    Semiurban|\n",
            "+--------+------+-------+----------+------------+-------------+---------------+-----------------+----------+----------------+--------------+-------------+\n",
            "only showing top 20 rows\n",
            "\n"
          ]
        }
      ]
    },
    {
      "cell_type": "code",
      "source": [
        "df.show()"
      ],
      "metadata": {
        "colab": {
          "base_uri": "https://localhost:8080/"
        },
        "id": "cA5CgHzNPjTh",
        "outputId": "63217e41-1ebd-453c-bf93-3b86519762e9"
      },
      "execution_count": 22,
      "outputs": [
        {
          "output_type": "stream",
          "name": "stdout",
          "text": [
            "+--------+------+-------+----------+------------+-------------+---------------+-----------------+----------+----------------+--------------+-------------+\n",
            "| Loan_ID|Gender|Married|Dependents|   Education|Self_Employed|ApplicantIncome|CoapplicantIncome|LoanAmount|Loan_Amount_Term|Credit_History|Property_Area|\n",
            "+--------+------+-------+----------+------------+-------------+---------------+-----------------+----------+----------------+--------------+-------------+\n",
            "|LP001015|  Male|    Yes|         0|    Graduate|           No|           5720|                0|     110.0|             360|             1|        Urban|\n",
            "|LP001022|  Male|    Yes|         1|    Graduate|           No|           3076|             1500|     126.0|             360|             1|        Urban|\n",
            "|LP001031|  Male|    Yes|         2|    Graduate|           No|           5000|             1800|     208.0|             360|             1|        Urban|\n",
            "|LP001035|  Male|    Yes|         2|    Graduate|           No|           2340|             2546|     100.0|             360|             0|        Urban|\n",
            "|LP001051|  Male|     No|         0|Not Graduate|           No|           3276|                0|      78.0|             360|             1|        Urban|\n",
            "|LP001054|  Male|    Yes|         0|Not Graduate|          Yes|           2165|             3422|     152.0|             360|             1|        Urban|\n",
            "|LP001055|Female|     No|         1|Not Graduate|           No|           2226|                0|      59.0|             360|             1|    Semiurban|\n",
            "|LP001056|  Male|    Yes|         2|Not Graduate|           No|           3881|                0|     147.0|             360|             0|        Rural|\n",
            "|LP001059|  Male|    Yes|         2|    Graduate|           No|          13633|                0|     237.5|             240|             1|        Urban|\n",
            "|LP001067|  Male|     No|         0|Not Graduate|           No|           2400|             2400|     123.0|             360|             1|    Semiurban|\n",
            "|LP001078|  Male|     No|         0|Not Graduate|           No|           3091|                0|      90.0|             360|             1|        Urban|\n",
            "|LP001082|  Male|    Yes|         1|    Graduate|           No|           2185|             1516|     162.0|             360|             1|    Semiurban|\n",
            "|LP001083|  Male|     No|        3+|    Graduate|           No|           4166|                0|      40.0|             180|             0|        Urban|\n",
            "|LP001094|  Male|    Yes|         2|    Graduate|           No|          12173|                0|     166.0|             360|             0|    Semiurban|\n",
            "|LP001096|Female|     No|         0|    Graduate|           No|           4666|                0|     124.0|             360|             1|    Semiurban|\n",
            "|LP001099|  Male|     No|         1|    Graduate|           No|           5667|                0|     131.0|             360|             1|        Urban|\n",
            "|LP001105|  Male|    Yes|         2|    Graduate|           No|           4583|             2916|     200.0|             360|             1|        Urban|\n",
            "|LP001107|  Male|    Yes|        3+|    Graduate|           No|           3786|              333|     126.0|             360|             1|    Semiurban|\n",
            "|LP001108|  Male|    Yes|         0|    Graduate|           No|           9226|             7916|     237.5|             360|             1|        Urban|\n",
            "|LP001115|  Male|     No|         0|    Graduate|           No|           1300|             3470|     100.0|             180|             1|    Semiurban|\n",
            "+--------+------+-------+----------+------------+-------------+---------------+-----------------+----------+----------------+--------------+-------------+\n",
            "only showing top 20 rows\n",
            "\n"
          ]
        }
      ]
    },
    {
      "cell_type": "markdown",
      "source": [
        "# **Feature** **Engineering**"
      ],
      "metadata": {
        "id": "4PiIjXOflFhb"
      }
    },
    {
      "cell_type": "code",
      "source": [
        "categorical_cols = [field.name for field in df.schema.fields if field.dataType.simpleString() == 'string']\n",
        "categorical_cols"
      ],
      "metadata": {
        "colab": {
          "base_uri": "https://localhost:8080/"
        },
        "id": "RJczSJRHoQJQ",
        "outputId": "d1267a51-7df2-4ce5-ed8e-3ef1f53dca5c"
      },
      "execution_count": 23,
      "outputs": [
        {
          "output_type": "execute_result",
          "data": {
            "text/plain": [
              "['Loan_ID',\n",
              " 'Gender',\n",
              " 'Married',\n",
              " 'Dependents',\n",
              " 'Education',\n",
              " 'Self_Employed',\n",
              " 'Property_Area']"
            ]
          },
          "metadata": {},
          "execution_count": 23
        }
      ]
    },
    {
      "cell_type": "code",
      "source": [
        "# convert married colimn\n",
        "from pyspark.ml.feature import StringIndexer\n",
        "\n",
        "# Convert categorical column \"married\" to numerical\n",
        "indexer = StringIndexer(inputCol=\"Married\", outputCol=\"Married_Index\")\n",
        "df = indexer.fit(df).transform(df)\n",
        "\n",
        "df.select(\"Married\", \"Married_Index\").show()\n"
      ],
      "metadata": {
        "colab": {
          "base_uri": "https://localhost:8080/"
        },
        "id": "VsLrC4qwnYOw",
        "outputId": "75a39dde-eb79-4be9-a012-f128d32ca3aa"
      },
      "execution_count": 24,
      "outputs": [
        {
          "output_type": "stream",
          "name": "stdout",
          "text": [
            "+-------+-------------+\n",
            "|Married|Married_Index|\n",
            "+-------+-------------+\n",
            "|    Yes|          0.0|\n",
            "|    Yes|          0.0|\n",
            "|    Yes|          0.0|\n",
            "|    Yes|          0.0|\n",
            "|     No|          1.0|\n",
            "|    Yes|          0.0|\n",
            "|     No|          1.0|\n",
            "|    Yes|          0.0|\n",
            "|    Yes|          0.0|\n",
            "|     No|          1.0|\n",
            "|     No|          1.0|\n",
            "|    Yes|          0.0|\n",
            "|     No|          1.0|\n",
            "|    Yes|          0.0|\n",
            "|     No|          1.0|\n",
            "|     No|          1.0|\n",
            "|    Yes|          0.0|\n",
            "|    Yes|          0.0|\n",
            "|    Yes|          0.0|\n",
            "|     No|          1.0|\n",
            "+-------+-------------+\n",
            "only showing top 20 rows\n",
            "\n"
          ]
        }
      ]
    },
    {
      "cell_type": "code",
      "source": [
        "columns_catg = ['Gender',\n",
        " 'Married',\n",
        " 'Dependents',\n",
        " 'Education',\n",
        "  'Self_employed',\n",
        "  'Property_Area']\n",
        "\n",
        "for col_name in columns_catg:\n",
        "    print(f\"Value counts for {col_name}:\")\n",
        "    df.groupBy(col_name).count().show()\n"
      ],
      "metadata": {
        "colab": {
          "base_uri": "https://localhost:8080/"
        },
        "id": "bl3Ao-YuoKQh",
        "outputId": "5ee16a99-07ab-403c-df0a-b2b33f9a8e84"
      },
      "execution_count": 25,
      "outputs": [
        {
          "output_type": "stream",
          "name": "stdout",
          "text": [
            "Value counts for Gender:\n",
            "+------+-----+\n",
            "|Gender|count|\n",
            "+------+-----+\n",
            "|Female|   69|\n",
            "|  Male|  293|\n",
            "+------+-----+\n",
            "\n",
            "Value counts for Married:\n",
            "+-------+-----+\n",
            "|Married|count|\n",
            "+-------+-----+\n",
            "|     No|  134|\n",
            "|    Yes|  228|\n",
            "+-------+-----+\n",
            "\n",
            "Value counts for Dependents:\n",
            "+----------+-----+\n",
            "|Dependents|count|\n",
            "+----------+-----+\n",
            "|         0|  207|\n",
            "|         1|   56|\n",
            "|        3+|   40|\n",
            "|         2|   59|\n",
            "+----------+-----+\n",
            "\n",
            "Value counts for Education:\n",
            "+------------+-----+\n",
            "|   Education|count|\n",
            "+------------+-----+\n",
            "|Not Graduate|   83|\n",
            "|    Graduate|  279|\n",
            "+------------+-----+\n",
            "\n",
            "Value counts for Self_employed:\n",
            "+-------------+-----+\n",
            "|Self_employed|count|\n",
            "+-------------+-----+\n",
            "|           No|  325|\n",
            "|          Yes|   37|\n",
            "+-------------+-----+\n",
            "\n",
            "Value counts for Property_Area:\n",
            "+-------------+-----+\n",
            "|Property_Area|count|\n",
            "+-------------+-----+\n",
            "|        Urban|  138|\n",
            "|    Semiurban|  114|\n",
            "|        Rural|  110|\n",
            "+-------------+-----+\n",
            "\n"
          ]
        }
      ]
    },
    {
      "cell_type": "code",
      "source": [
        "from pyspark.ml.feature import StringIndexer\n",
        "\n",
        "# Convert categorical column \"Gender\" to numerical\n",
        "indexer = StringIndexer(inputCol=\"Gender\", outputCol=\"Gender_Index\")\n",
        "df = indexer.fit(df).transform(df)\n",
        "\n",
        "df.select(\"Gender\", \"Gender_Index\").show()\n"
      ],
      "metadata": {
        "colab": {
          "base_uri": "https://localhost:8080/"
        },
        "id": "WQ6WlTinxTsE",
        "outputId": "0086d7d7-a4d8-443e-8d06-d6a2768b6fa8"
      },
      "execution_count": 26,
      "outputs": [
        {
          "output_type": "stream",
          "name": "stdout",
          "text": [
            "+------+------------+\n",
            "|Gender|Gender_Index|\n",
            "+------+------------+\n",
            "|  Male|         0.0|\n",
            "|  Male|         0.0|\n",
            "|  Male|         0.0|\n",
            "|  Male|         0.0|\n",
            "|  Male|         0.0|\n",
            "|  Male|         0.0|\n",
            "|Female|         1.0|\n",
            "|  Male|         0.0|\n",
            "|  Male|         0.0|\n",
            "|  Male|         0.0|\n",
            "|  Male|         0.0|\n",
            "|  Male|         0.0|\n",
            "|  Male|         0.0|\n",
            "|  Male|         0.0|\n",
            "|Female|         1.0|\n",
            "|  Male|         0.0|\n",
            "|  Male|         0.0|\n",
            "|  Male|         0.0|\n",
            "|  Male|         0.0|\n",
            "|  Male|         0.0|\n",
            "+------+------------+\n",
            "only showing top 20 rows\n",
            "\n"
          ]
        }
      ]
    },
    {
      "cell_type": "code",
      "source": [
        "# use onehot enconding to convert categorical column education inti numerical column\n",
        "from pyspark.ml.feature import OneHotEncoder\n",
        "\n",
        "from pyspark.ml.feature import StringIndexer, OneHotEncoder\n",
        "\n",
        "# Step 1: Convert String column to Numeric Index\n",
        "indexer = StringIndexer(inputCol=\"Education\", outputCol=\"Education_Index\")\n",
        "df = indexer.fit(df).transform(df)\n",
        "\n",
        "# Step 2: Apply One-Hot Encoding\n",
        "encoder = OneHotEncoder(inputCol=\"Education_Index\", outputCol=\"Education_OHE\", dropLast=False)\n",
        "df = encoder.fit(df).transform(df)\n",
        "\n",
        "# Show results\n",
        "df.select(\"Education\", \"Education_Index\", \"Education_OHE\").show()"
      ],
      "metadata": {
        "colab": {
          "base_uri": "https://localhost:8080/"
        },
        "id": "QIpBHee3higA",
        "outputId": "f5569ae3-09ba-4801-a4fc-46b4be16c4c4"
      },
      "execution_count": 27,
      "outputs": [
        {
          "output_type": "stream",
          "name": "stdout",
          "text": [
            "+------------+---------------+-------------+\n",
            "|   Education|Education_Index|Education_OHE|\n",
            "+------------+---------------+-------------+\n",
            "|    Graduate|            0.0|(2,[0],[1.0])|\n",
            "|    Graduate|            0.0|(2,[0],[1.0])|\n",
            "|    Graduate|            0.0|(2,[0],[1.0])|\n",
            "|    Graduate|            0.0|(2,[0],[1.0])|\n",
            "|Not Graduate|            1.0|(2,[1],[1.0])|\n",
            "|Not Graduate|            1.0|(2,[1],[1.0])|\n",
            "|Not Graduate|            1.0|(2,[1],[1.0])|\n",
            "|Not Graduate|            1.0|(2,[1],[1.0])|\n",
            "|    Graduate|            0.0|(2,[0],[1.0])|\n",
            "|Not Graduate|            1.0|(2,[1],[1.0])|\n",
            "|Not Graduate|            1.0|(2,[1],[1.0])|\n",
            "|    Graduate|            0.0|(2,[0],[1.0])|\n",
            "|    Graduate|            0.0|(2,[0],[1.0])|\n",
            "|    Graduate|            0.0|(2,[0],[1.0])|\n",
            "|    Graduate|            0.0|(2,[0],[1.0])|\n",
            "|    Graduate|            0.0|(2,[0],[1.0])|\n",
            "|    Graduate|            0.0|(2,[0],[1.0])|\n",
            "|    Graduate|            0.0|(2,[0],[1.0])|\n",
            "|    Graduate|            0.0|(2,[0],[1.0])|\n",
            "|    Graduate|            0.0|(2,[0],[1.0])|\n",
            "+------------+---------------+-------------+\n",
            "only showing top 20 rows\n",
            "\n"
          ]
        }
      ]
    },
    {
      "cell_type": "code",
      "source": [
        "df = df.drop(\"Loan_ID\")\n",
        "df.show()\n"
      ],
      "metadata": {
        "colab": {
          "base_uri": "https://localhost:8080/"
        },
        "id": "wGsCYoOomRmD",
        "outputId": "83e9ab78-fdde-419e-f05b-7919dc0d3c26"
      },
      "execution_count": 28,
      "outputs": [
        {
          "output_type": "stream",
          "name": "stdout",
          "text": [
            "+------+-------+----------+------------+-------------+---------------+-----------------+----------+----------------+--------------+-------------+-------------+------------+---------------+-------------+\n",
            "|Gender|Married|Dependents|   Education|Self_Employed|ApplicantIncome|CoapplicantIncome|LoanAmount|Loan_Amount_Term|Credit_History|Property_Area|Married_Index|Gender_Index|Education_Index|Education_OHE|\n",
            "+------+-------+----------+------------+-------------+---------------+-----------------+----------+----------------+--------------+-------------+-------------+------------+---------------+-------------+\n",
            "|  Male|    Yes|         0|    Graduate|           No|           5720|                0|     110.0|             360|             1|        Urban|          0.0|         0.0|            0.0|(2,[0],[1.0])|\n",
            "|  Male|    Yes|         1|    Graduate|           No|           3076|             1500|     126.0|             360|             1|        Urban|          0.0|         0.0|            0.0|(2,[0],[1.0])|\n",
            "|  Male|    Yes|         2|    Graduate|           No|           5000|             1800|     208.0|             360|             1|        Urban|          0.0|         0.0|            0.0|(2,[0],[1.0])|\n",
            "|  Male|    Yes|         2|    Graduate|           No|           2340|             2546|     100.0|             360|             0|        Urban|          0.0|         0.0|            0.0|(2,[0],[1.0])|\n",
            "|  Male|     No|         0|Not Graduate|           No|           3276|                0|      78.0|             360|             1|        Urban|          1.0|         0.0|            1.0|(2,[1],[1.0])|\n",
            "|  Male|    Yes|         0|Not Graduate|          Yes|           2165|             3422|     152.0|             360|             1|        Urban|          0.0|         0.0|            1.0|(2,[1],[1.0])|\n",
            "|Female|     No|         1|Not Graduate|           No|           2226|                0|      59.0|             360|             1|    Semiurban|          1.0|         1.0|            1.0|(2,[1],[1.0])|\n",
            "|  Male|    Yes|         2|Not Graduate|           No|           3881|                0|     147.0|             360|             0|        Rural|          0.0|         0.0|            1.0|(2,[1],[1.0])|\n",
            "|  Male|    Yes|         2|    Graduate|           No|          13633|                0|     237.5|             240|             1|        Urban|          0.0|         0.0|            0.0|(2,[0],[1.0])|\n",
            "|  Male|     No|         0|Not Graduate|           No|           2400|             2400|     123.0|             360|             1|    Semiurban|          1.0|         0.0|            1.0|(2,[1],[1.0])|\n",
            "|  Male|     No|         0|Not Graduate|           No|           3091|                0|      90.0|             360|             1|        Urban|          1.0|         0.0|            1.0|(2,[1],[1.0])|\n",
            "|  Male|    Yes|         1|    Graduate|           No|           2185|             1516|     162.0|             360|             1|    Semiurban|          0.0|         0.0|            0.0|(2,[0],[1.0])|\n",
            "|  Male|     No|        3+|    Graduate|           No|           4166|                0|      40.0|             180|             0|        Urban|          1.0|         0.0|            0.0|(2,[0],[1.0])|\n",
            "|  Male|    Yes|         2|    Graduate|           No|          12173|                0|     166.0|             360|             0|    Semiurban|          0.0|         0.0|            0.0|(2,[0],[1.0])|\n",
            "|Female|     No|         0|    Graduate|           No|           4666|                0|     124.0|             360|             1|    Semiurban|          1.0|         1.0|            0.0|(2,[0],[1.0])|\n",
            "|  Male|     No|         1|    Graduate|           No|           5667|                0|     131.0|             360|             1|        Urban|          1.0|         0.0|            0.0|(2,[0],[1.0])|\n",
            "|  Male|    Yes|         2|    Graduate|           No|           4583|             2916|     200.0|             360|             1|        Urban|          0.0|         0.0|            0.0|(2,[0],[1.0])|\n",
            "|  Male|    Yes|        3+|    Graduate|           No|           3786|              333|     126.0|             360|             1|    Semiurban|          0.0|         0.0|            0.0|(2,[0],[1.0])|\n",
            "|  Male|    Yes|         0|    Graduate|           No|           9226|             7916|     237.5|             360|             1|        Urban|          0.0|         0.0|            0.0|(2,[0],[1.0])|\n",
            "|  Male|     No|         0|    Graduate|           No|           1300|             3470|     100.0|             180|             1|    Semiurban|          1.0|         0.0|            0.0|(2,[0],[1.0])|\n",
            "+------+-------+----------+------------+-------------+---------------+-----------------+----------+----------------+--------------+-------------+-------------+------------+---------------+-------------+\n",
            "only showing top 20 rows\n",
            "\n"
          ]
        }
      ]
    },
    {
      "cell_type": "code",
      "source": [
        "# convert dependent column\n",
        "from pyspark.ml.feature import OneHotEncoder, StringIndexer\n",
        "\n",
        "# Convert String to Index First\n",
        "indexer = StringIndexer(inputCol=\"Dependents\", outputCol=\"Dependent_index\")\n",
        "df = indexer.fit(df).transform(df)\n",
        "\n",
        "# Apply One-Hot Encoding\n",
        "encoder = OneHotEncoder(inputCol=\"Dependent_index\", outputCol=\"Dependent_OHE\", dropLast=False)\n",
        "df = encoder.fit(df).transform(df)\n",
        "\n",
        "df.select(\"Dependents\", \"Dependent_index\", \"Dependent_OHE\").show()\n"
      ],
      "metadata": {
        "colab": {
          "base_uri": "https://localhost:8080/"
        },
        "id": "GJ7g0QsexzyS",
        "outputId": "ab23bf80-ffe5-4ee2-e272-700216b75f6d"
      },
      "execution_count": 29,
      "outputs": [
        {
          "output_type": "stream",
          "name": "stdout",
          "text": [
            "+----------+---------------+-------------+\n",
            "|Dependents|Dependent_index|Dependent_OHE|\n",
            "+----------+---------------+-------------+\n",
            "|         0|            0.0|(4,[0],[1.0])|\n",
            "|         1|            2.0|(4,[2],[1.0])|\n",
            "|         2|            1.0|(4,[1],[1.0])|\n",
            "|         2|            1.0|(4,[1],[1.0])|\n",
            "|         0|            0.0|(4,[0],[1.0])|\n",
            "|         0|            0.0|(4,[0],[1.0])|\n",
            "|         1|            2.0|(4,[2],[1.0])|\n",
            "|         2|            1.0|(4,[1],[1.0])|\n",
            "|         2|            1.0|(4,[1],[1.0])|\n",
            "|         0|            0.0|(4,[0],[1.0])|\n",
            "|         0|            0.0|(4,[0],[1.0])|\n",
            "|         1|            2.0|(4,[2],[1.0])|\n",
            "|        3+|            3.0|(4,[3],[1.0])|\n",
            "|         2|            1.0|(4,[1],[1.0])|\n",
            "|         0|            0.0|(4,[0],[1.0])|\n",
            "|         1|            2.0|(4,[2],[1.0])|\n",
            "|         2|            1.0|(4,[1],[1.0])|\n",
            "|        3+|            3.0|(4,[3],[1.0])|\n",
            "|         0|            0.0|(4,[0],[1.0])|\n",
            "|         0|            0.0|(4,[0],[1.0])|\n",
            "+----------+---------------+-------------+\n",
            "only showing top 20 rows\n",
            "\n"
          ]
        }
      ]
    },
    {
      "cell_type": "code",
      "source": [
        "# convert Self_Employed\n",
        "from pyspark.ml.feature import StringIndexer\n",
        "\n",
        "# Convert categorical column \"Gender\" to numerical\n",
        "indexer = StringIndexer(inputCol=\"Self_Employed\", outputCol=\"Employed_Index\")\n",
        "df = indexer.fit(df).transform(df)\n",
        "\n",
        "df.select(\"Self_Employed\", \"Employed_Index\").show()"
      ],
      "metadata": {
        "colab": {
          "base_uri": "https://localhost:8080/"
        },
        "id": "tWnEeHxvzn6z",
        "outputId": "40df0621-c709-4e4b-88da-7d91df3dc867"
      },
      "execution_count": 30,
      "outputs": [
        {
          "output_type": "stream",
          "name": "stdout",
          "text": [
            "+-------------+--------------+\n",
            "|Self_Employed|Employed_Index|\n",
            "+-------------+--------------+\n",
            "|           No|           0.0|\n",
            "|           No|           0.0|\n",
            "|           No|           0.0|\n",
            "|           No|           0.0|\n",
            "|           No|           0.0|\n",
            "|          Yes|           1.0|\n",
            "|           No|           0.0|\n",
            "|           No|           0.0|\n",
            "|           No|           0.0|\n",
            "|           No|           0.0|\n",
            "|           No|           0.0|\n",
            "|           No|           0.0|\n",
            "|           No|           0.0|\n",
            "|           No|           0.0|\n",
            "|           No|           0.0|\n",
            "|           No|           0.0|\n",
            "|           No|           0.0|\n",
            "|           No|           0.0|\n",
            "|           No|           0.0|\n",
            "|           No|           0.0|\n",
            "+-------------+--------------+\n",
            "only showing top 20 rows\n",
            "\n"
          ]
        }
      ]
    },
    {
      "cell_type": "code",
      "source": [
        "# convert property_area column\n",
        "from pyspark.ml.feature import OneHotEncoder, StringIndexer\n",
        "\n",
        "# Convert String to Index First\n",
        "indexer = StringIndexer(inputCol=\"Property_Area\", outputCol=\"property_index\")\n",
        "df = indexer.fit(df).transform(df)\n",
        "\n",
        "# Apply One-Hot Encoding\n",
        "encoder = OneHotEncoder(inputCol=\"property_index\", outputCol=\"property_OHE\", dropLast=False)\n",
        "df = encoder.fit(df).transform(df)\n",
        "\n",
        "df.select(\"Property_Area\", \"property_index\", \"property_OHE\").show()\n"
      ],
      "metadata": {
        "colab": {
          "base_uri": "https://localhost:8080/"
        },
        "id": "kBmFySj7zNzg",
        "outputId": "54877cb2-752c-47cd-832a-e7a1ae650978"
      },
      "execution_count": 31,
      "outputs": [
        {
          "output_type": "stream",
          "name": "stdout",
          "text": [
            "+-------------+--------------+-------------+\n",
            "|Property_Area|property_index| property_OHE|\n",
            "+-------------+--------------+-------------+\n",
            "|        Urban|           0.0|(3,[0],[1.0])|\n",
            "|        Urban|           0.0|(3,[0],[1.0])|\n",
            "|        Urban|           0.0|(3,[0],[1.0])|\n",
            "|        Urban|           0.0|(3,[0],[1.0])|\n",
            "|        Urban|           0.0|(3,[0],[1.0])|\n",
            "|        Urban|           0.0|(3,[0],[1.0])|\n",
            "|    Semiurban|           1.0|(3,[1],[1.0])|\n",
            "|        Rural|           2.0|(3,[2],[1.0])|\n",
            "|        Urban|           0.0|(3,[0],[1.0])|\n",
            "|    Semiurban|           1.0|(3,[1],[1.0])|\n",
            "|        Urban|           0.0|(3,[0],[1.0])|\n",
            "|    Semiurban|           1.0|(3,[1],[1.0])|\n",
            "|        Urban|           0.0|(3,[0],[1.0])|\n",
            "|    Semiurban|           1.0|(3,[1],[1.0])|\n",
            "|    Semiurban|           1.0|(3,[1],[1.0])|\n",
            "|        Urban|           0.0|(3,[0],[1.0])|\n",
            "|        Urban|           0.0|(3,[0],[1.0])|\n",
            "|    Semiurban|           1.0|(3,[1],[1.0])|\n",
            "|        Urban|           0.0|(3,[0],[1.0])|\n",
            "|    Semiurban|           1.0|(3,[1],[1.0])|\n",
            "+-------------+--------------+-------------+\n",
            "only showing top 20 rows\n",
            "\n"
          ]
        }
      ]
    },
    {
      "cell_type": "code",
      "source": [
        "categorical_cols = [field.name for field in df.schema.fields if field.dataType.simpleString() == 'string']\n",
        "categorical_cols"
      ],
      "metadata": {
        "colab": {
          "base_uri": "https://localhost:8080/"
        },
        "id": "EEMddXrpz2-L",
        "outputId": "84f9e324-9829-492a-98b6-5677f825b2fc"
      },
      "execution_count": 32,
      "outputs": [
        {
          "output_type": "execute_result",
          "data": {
            "text/plain": [
              "['Gender',\n",
              " 'Married',\n",
              " 'Dependents',\n",
              " 'Education',\n",
              " 'Self_Employed',\n",
              " 'Property_Area']"
            ]
          },
          "metadata": {},
          "execution_count": 32
        }
      ]
    },
    {
      "cell_type": "code",
      "source": [
        "df.columns"
      ],
      "metadata": {
        "colab": {
          "base_uri": "https://localhost:8080/"
        },
        "id": "ogbNbArH0PIy",
        "outputId": "d70d65da-101d-4db5-d3d5-9b8102aecafd"
      },
      "execution_count": 33,
      "outputs": [
        {
          "output_type": "execute_result",
          "data": {
            "text/plain": [
              "['Gender',\n",
              " 'Married',\n",
              " 'Dependents',\n",
              " 'Education',\n",
              " 'Self_Employed',\n",
              " 'ApplicantIncome',\n",
              " 'CoapplicantIncome',\n",
              " 'LoanAmount',\n",
              " 'Loan_Amount_Term',\n",
              " 'Credit_History',\n",
              " 'Property_Area',\n",
              " 'Married_Index',\n",
              " 'Gender_Index',\n",
              " 'Education_Index',\n",
              " 'Education_OHE',\n",
              " 'Dependent_index',\n",
              " 'Dependent_OHE',\n",
              " 'Employed_Index',\n",
              " 'property_index',\n",
              " 'property_OHE']"
            ]
          },
          "metadata": {},
          "execution_count": 33
        }
      ]
    },
    {
      "cell_type": "code",
      "source": [
        "df = df.drop('Gender',\n",
        " 'Married',\n",
        " 'Dependents',\n",
        " 'Education',\n",
        " 'Self_Employed',\n",
        " 'Property_Area',\n",
        " 'Education_Index',\n",
        " 'Dependent_index',\n",
        " 'Employed_Index',\n",
        " 'property_index',\n",
        "  )\n",
        "df.show()"
      ],
      "metadata": {
        "colab": {
          "base_uri": "https://localhost:8080/"
        },
        "id": "uhTLJ4DTyww9",
        "outputId": "7ca40f6d-156f-4ceb-9268-555e113b10fe"
      },
      "execution_count": 34,
      "outputs": [
        {
          "output_type": "stream",
          "name": "stdout",
          "text": [
            "+---------------+-----------------+----------+----------------+--------------+-------------+------------+-------------+-------------+-------------+\n",
            "|ApplicantIncome|CoapplicantIncome|LoanAmount|Loan_Amount_Term|Credit_History|Married_Index|Gender_Index|Education_OHE|Dependent_OHE| property_OHE|\n",
            "+---------------+-----------------+----------+----------------+--------------+-------------+------------+-------------+-------------+-------------+\n",
            "|           5720|                0|     110.0|             360|             1|          0.0|         0.0|(2,[0],[1.0])|(4,[0],[1.0])|(3,[0],[1.0])|\n",
            "|           3076|             1500|     126.0|             360|             1|          0.0|         0.0|(2,[0],[1.0])|(4,[2],[1.0])|(3,[0],[1.0])|\n",
            "|           5000|             1800|     208.0|             360|             1|          0.0|         0.0|(2,[0],[1.0])|(4,[1],[1.0])|(3,[0],[1.0])|\n",
            "|           2340|             2546|     100.0|             360|             0|          0.0|         0.0|(2,[0],[1.0])|(4,[1],[1.0])|(3,[0],[1.0])|\n",
            "|           3276|                0|      78.0|             360|             1|          1.0|         0.0|(2,[1],[1.0])|(4,[0],[1.0])|(3,[0],[1.0])|\n",
            "|           2165|             3422|     152.0|             360|             1|          0.0|         0.0|(2,[1],[1.0])|(4,[0],[1.0])|(3,[0],[1.0])|\n",
            "|           2226|                0|      59.0|             360|             1|          1.0|         1.0|(2,[1],[1.0])|(4,[2],[1.0])|(3,[1],[1.0])|\n",
            "|           3881|                0|     147.0|             360|             0|          0.0|         0.0|(2,[1],[1.0])|(4,[1],[1.0])|(3,[2],[1.0])|\n",
            "|          13633|                0|     237.5|             240|             1|          0.0|         0.0|(2,[0],[1.0])|(4,[1],[1.0])|(3,[0],[1.0])|\n",
            "|           2400|             2400|     123.0|             360|             1|          1.0|         0.0|(2,[1],[1.0])|(4,[0],[1.0])|(3,[1],[1.0])|\n",
            "|           3091|                0|      90.0|             360|             1|          1.0|         0.0|(2,[1],[1.0])|(4,[0],[1.0])|(3,[0],[1.0])|\n",
            "|           2185|             1516|     162.0|             360|             1|          0.0|         0.0|(2,[0],[1.0])|(4,[2],[1.0])|(3,[1],[1.0])|\n",
            "|           4166|                0|      40.0|             180|             0|          1.0|         0.0|(2,[0],[1.0])|(4,[3],[1.0])|(3,[0],[1.0])|\n",
            "|          12173|                0|     166.0|             360|             0|          0.0|         0.0|(2,[0],[1.0])|(4,[1],[1.0])|(3,[1],[1.0])|\n",
            "|           4666|                0|     124.0|             360|             1|          1.0|         1.0|(2,[0],[1.0])|(4,[0],[1.0])|(3,[1],[1.0])|\n",
            "|           5667|                0|     131.0|             360|             1|          1.0|         0.0|(2,[0],[1.0])|(4,[2],[1.0])|(3,[0],[1.0])|\n",
            "|           4583|             2916|     200.0|             360|             1|          0.0|         0.0|(2,[0],[1.0])|(4,[1],[1.0])|(3,[0],[1.0])|\n",
            "|           3786|              333|     126.0|             360|             1|          0.0|         0.0|(2,[0],[1.0])|(4,[3],[1.0])|(3,[1],[1.0])|\n",
            "|           9226|             7916|     237.5|             360|             1|          0.0|         0.0|(2,[0],[1.0])|(4,[0],[1.0])|(3,[0],[1.0])|\n",
            "|           1300|             3470|     100.0|             180|             1|          1.0|         0.0|(2,[0],[1.0])|(4,[0],[1.0])|(3,[1],[1.0])|\n",
            "+---------------+-----------------+----------+----------------+--------------+-------------+------------+-------------+-------------+-------------+\n",
            "only showing top 20 rows\n",
            "\n"
          ]
        }
      ]
    },
    {
      "cell_type": "code",
      "source": [
        "df.columns"
      ],
      "metadata": {
        "colab": {
          "base_uri": "https://localhost:8080/"
        },
        "id": "WIOxTho_1Meu",
        "outputId": "b40d31fd-ddb1-4ee9-9f3d-386133027899"
      },
      "execution_count": 35,
      "outputs": [
        {
          "output_type": "execute_result",
          "data": {
            "text/plain": [
              "['ApplicantIncome',\n",
              " 'CoapplicantIncome',\n",
              " 'LoanAmount',\n",
              " 'Loan_Amount_Term',\n",
              " 'Credit_History',\n",
              " 'Married_Index',\n",
              " 'Gender_Index',\n",
              " 'Education_OHE',\n",
              " 'Dependent_OHE',\n",
              " 'property_OHE']"
            ]
          },
          "metadata": {},
          "execution_count": 35
        }
      ]
    },
    {
      "cell_type": "code",
      "execution_count": 37,
      "metadata": {
        "id": "OYWn1sckY4L4"
      },
      "outputs": [],
      "source": [
        "## Descriptive analysis\n",
        "# df.describe().toPandas().transpose()"
      ]
    },
    {
      "cell_type": "code",
      "execution_count": 38,
      "metadata": {
        "colab": {
          "base_uri": "https://localhost:8080/"
        },
        "id": "AUVJAxD3Z3Rz",
        "outputId": "9fe83b71-6310-4933-e95c-715e27f4e686"
      },
      "outputs": [
        {
          "output_type": "stream",
          "name": "stdout",
          "text": [
            "+--------------------+----------+\n",
            "|            features|LoanAmount|\n",
            "+--------------------+----------+\n",
            "|(15,[0,2,3,6,8,12...|     110.0|\n",
            "|(15,[0,1,2,3,6,10...|     126.0|\n",
            "|(15,[0,1,2,3,6,9,...|     208.0|\n",
            "+--------------------+----------+\n",
            "only showing top 3 rows\n",
            "\n"
          ]
        }
      ],
      "source": [
        "from pyspark.ml.feature import VectorAssembler\n",
        "vectorAssembler = VectorAssembler(inputCols = ['ApplicantIncome',\n",
        " 'CoapplicantIncome',\n",
        " 'Loan_Amount_Term',\n",
        " 'Credit_History',\n",
        " 'Married_Index',\n",
        " 'Gender_Index',\n",
        " 'Education_OHE',\n",
        " 'Dependent_OHE',\n",
        " 'property_OHE'], outputCol = 'features')\n",
        "v_df = vectorAssembler.transform(df)\n",
        "v_df = v_df.select(['features', 'LoanAmount'])\n",
        "v_df.show(3)"
      ]
    },
    {
      "cell_type": "code",
      "execution_count": 40,
      "metadata": {
        "id": "UBbp5sQCaDP0"
      },
      "outputs": [],
      "source": [
        "# splitting data in training & testing\n",
        "splits = v_df.randomSplit([0.7, 0.3])\n",
        "train_df = splits[0]\n",
        "test_df = splits[1]"
      ]
    },
    {
      "cell_type": "code",
      "source": [
        "splits = df.randomSplit([0.7, 0.3])\n",
        "splits"
      ],
      "metadata": {
        "colab": {
          "base_uri": "https://localhost:8080/"
        },
        "id": "CPvACBQmVraX",
        "outputId": "6f0f0c97-a3d4-4983-b10f-fd362105784e"
      },
      "execution_count": 41,
      "outputs": [
        {
          "output_type": "execute_result",
          "data": {
            "text/plain": [
              "[DataFrame[ApplicantIncome: int, CoapplicantIncome: int, LoanAmount: double, Loan_Amount_Term: int, Credit_History: int, Married_Index: double, Gender_Index: double, Education_OHE: vector, Dependent_OHE: vector, property_OHE: vector],\n",
              " DataFrame[ApplicantIncome: int, CoapplicantIncome: int, LoanAmount: double, Loan_Amount_Term: int, Credit_History: int, Married_Index: double, Gender_Index: double, Education_OHE: vector, Dependent_OHE: vector, property_OHE: vector]]"
            ]
          },
          "metadata": {},
          "execution_count": 41
        }
      ]
    },
    {
      "cell_type": "code",
      "execution_count": 42,
      "metadata": {
        "colab": {
          "base_uri": "https://localhost:8080/"
        },
        "id": "dB_cznS3aIC-",
        "outputId": "498324e5-6ee7-4d76-9708-6cd51444825e"
      },
      "outputs": [
        {
          "output_type": "stream",
          "name": "stdout",
          "text": [
            "Coefficients: [0.0033207875718255114,0.005007277107368784,0.07497097302829422,4.627223998898075,-8.364533232037278,-5.958092801590558,5.951632949185885,-5.951632949186764,-6.010225672407012,6.282409822422225,-1.0883883001807813,7.673425416226339,-2.2908773091359977,0.2903175463764191,2.4516975064474553]\n",
            "Intercept: 80.59276250686743\n"
          ]
        }
      ],
      "source": [
        "from pyspark.ml.regression import LinearRegression\n",
        "lr = LinearRegression(featuresCol = 'features', labelCol='LoanAmount', maxIter=10)\n",
        "lr_model = lr.fit(train_df)\n",
        "print(\"Coefficients: \" + str(lr_model.coefficients))\n",
        "print(\"Intercept: \" + str(lr_model.intercept))"
      ]
    },
    {
      "cell_type": "code",
      "execution_count": 43,
      "metadata": {
        "colab": {
          "base_uri": "https://localhost:8080/"
        },
        "id": "q49jRoJSaNi1",
        "outputId": "442dd3c7-40b9-4af2-805b-f846cfede93f"
      },
      "outputs": [
        {
          "output_type": "stream",
          "name": "stdout",
          "text": [
            "RMSE: 40.526641\n",
            "r2: 0.248820\n"
          ]
        }
      ],
      "source": [
        "trainingSummary = lr_model.summary\n",
        "print(\"RMSE: %f\" % trainingSummary.rootMeanSquaredError)\n",
        "print(\"r2: %f\" % trainingSummary.r2)"
      ]
    },
    {
      "cell_type": "code",
      "execution_count": 44,
      "metadata": {
        "colab": {
          "base_uri": "https://localhost:8080/"
        },
        "id": "pC9IQ9nraS1z",
        "outputId": "a9533473-36a9-420b-9ab5-69b668bae06a"
      },
      "outputs": [
        {
          "output_type": "stream",
          "name": "stdout",
          "text": [
            "+------------------+----------+--------------------+\n",
            "|        prediction|LoanAmount|            features|\n",
            "+------------------+----------+--------------------+\n",
            "| 98.21963224147272|     104.0|(15,[0,1,2,3,4,6,...|\n",
            "|109.69784949252715|     125.0|(15,[0,1,2,3,4,6,...|\n",
            "|130.59391226521961|     155.0|(15,[0,1,2,3,4,6,...|\n",
            "|123.42244761748228|     138.0|(15,[0,1,2,3,4,6,...|\n",
            "| 121.5695232775011|     122.0|(15,[0,1,2,3,4,6,...|\n",
            "+------------------+----------+--------------------+\n",
            "only showing top 5 rows\n",
            "\n",
            "R Squared (R2) on test data = 0.139098\n"
          ]
        }
      ],
      "source": [
        "lr_predictions = lr_model.transform(test_df)\n",
        "\n",
        "from pyspark.ml.evaluation import RegressionEvaluator\n",
        "lr_evaluator = RegressionEvaluator(predictionCol=\"prediction\", \\\n",
        "                 labelCol=\"LoanAmount\",metricName=\"r2\")\n",
        "\n",
        "lr_predictions.select(\"prediction\",\"LoanAmount\",\"features\").show(5)\n",
        "print(\"R Squared (R2) on test data = %g\" % lr_evaluator.evaluate(lr_predictions))"
      ]
    },
    {
      "cell_type": "code",
      "execution_count": 45,
      "metadata": {
        "colab": {
          "base_uri": "https://localhost:8080/"
        },
        "id": "5knc-1egaVjS",
        "outputId": "325785e7-bf02-4d8f-b7aa-539d1c2a1cf8"
      },
      "outputs": [
        {
          "output_type": "stream",
          "name": "stdout",
          "text": [
            "numIterations: 10\n",
            "objectiveHistory: [0.4999999999999991, 0.3927538900002707, 0.3783377936141834, 0.3756360597388744, 0.37560156939960443, 0.37559118112101597, 0.37559054419519544, 0.37559022621419125, 0.3755902140759315, 0.3755902116819052, 0.37559021166976025]\n",
            "+-------------------+\n",
            "|          residuals|\n",
            "+-------------------+\n",
            "| 12.045270016204086|\n",
            "|  46.72997077971473|\n",
            "|  -5.44344633547081|\n",
            "| 47.659834783744714|\n",
            "|-12.274228647919315|\n",
            "| 28.643690456503123|\n",
            "|-11.404009748174843|\n",
            "| 21.285713280275957|\n",
            "| -96.23356086715859|\n",
            "|-28.553335024512478|\n",
            "|  46.16561378356704|\n",
            "|  67.66965186082211|\n",
            "| 19.626853002021505|\n",
            "| -1.521079066133126|\n",
            "| 10.839182281236901|\n",
            "|-16.017924222406748|\n",
            "| -20.86081260980643|\n",
            "|  75.72533441237243|\n",
            "|  41.51214022322294|\n",
            "|-23.483858653843924|\n",
            "+-------------------+\n",
            "only showing top 20 rows\n",
            "\n"
          ]
        }
      ],
      "source": [
        "print(\"numIterations: %d\" % trainingSummary.totalIterations)\n",
        "print(\"objectiveHistory: %s\" % str(trainingSummary.objectiveHistory))\n",
        "trainingSummary.residuals.show()"
      ]
    },
    {
      "cell_type": "code",
      "execution_count": 46,
      "metadata": {
        "colab": {
          "base_uri": "https://localhost:8080/"
        },
        "id": "8SDbrcFwaX9u",
        "outputId": "916095d4-df68-40f4-c65b-d9f5227b1be8"
      },
      "outputs": [
        {
          "output_type": "stream",
          "name": "stdout",
          "text": [
            "+------------------+----------+--------------------+\n",
            "|        prediction|LoanAmount|            features|\n",
            "+------------------+----------+--------------------+\n",
            "| 98.21963224147272|     104.0|(15,[0,1,2,3,4,6,...|\n",
            "|109.69784949252715|     125.0|(15,[0,1,2,3,4,6,...|\n",
            "|130.59391226521961|     155.0|(15,[0,1,2,3,4,6,...|\n",
            "|123.42244761748228|     138.0|(15,[0,1,2,3,4,6,...|\n",
            "| 121.5695232775011|     122.0|(15,[0,1,2,3,4,6,...|\n",
            "| 138.6807680830941|     200.0|(15,[0,1,2,3,4,6,...|\n",
            "| 128.0428964011846|     130.0|(15,[0,1,2,3,4,6,...|\n",
            "| 140.9989155945713|     187.0|(15,[0,1,2,3,4,6,...|\n",
            "|187.16755244534778|      40.0|(15,[0,1,2,3,4,6,...|\n",
            "|125.29850914972965|      77.0|(15,[0,1,2,3,4,7,...|\n",
            "|126.18874980374854|     100.0|(15,[0,1,2,3,4,7,...|\n",
            "|207.81737990965235|     237.5|(15,[0,1,2,3,5,6,...|\n",
            "|  146.463040866679|     173.0|(15,[0,1,2,3,5,6,...|\n",
            "|106.29086745761151|     181.0|(15,[0,1,2,3,5,7,...|\n",
            "|131.36860987269637|      90.0|(15,[0,1,2,3,6,8,...|\n",
            "|126.39241404431365|     113.0|(15,[0,1,2,3,6,8,...|\n",
            "|142.39945597688606|     160.0|(15,[0,1,2,3,6,8,...|\n",
            "| 128.2432514411156|     105.0|(15,[0,1,2,3,6,8,...|\n",
            "|134.63314385972845|     170.0|(15,[0,1,2,3,6,8,...|\n",
            "|128.13263155447203|      88.0|(15,[0,1,2,3,6,8,...|\n",
            "+------------------+----------+--------------------+\n",
            "only showing top 20 rows\n",
            "\n"
          ]
        }
      ],
      "source": [
        "predictions = lr_model.transform(test_df)\n",
        "predictions.select(\"prediction\",\"LoanAmount\",\"features\").show()"
      ]
    },
    {
      "cell_type": "markdown",
      "metadata": {
        "id": "ha_HegEaG5LR"
      },
      "source": [
        "## Decision tree regression"
      ]
    },
    {
      "cell_type": "code",
      "execution_count": 55,
      "metadata": {
        "colab": {
          "base_uri": "https://localhost:8080/"
        },
        "id": "HVcnDdmWacTG",
        "outputId": "58f7adfa-877e-48bd-fd8c-8a4514ee84a6"
      },
      "outputs": [
        {
          "output_type": "stream",
          "name": "stdout",
          "text": [
            "R2 score = 0.040272\n"
          ]
        }
      ],
      "source": [
        "from pyspark.ml.regression import DecisionTreeRegressor\n",
        "dt = DecisionTreeRegressor(featuresCol ='features', labelCol = 'LoanAmount')\n",
        "dt_model = dt.fit(train_df)\n",
        "dt_predictions = dt_model.transform(test_df)\n",
        "dt_evaluator = RegressionEvaluator(\n",
        "    labelCol=\"LoanAmount\", predictionCol=\"prediction\", metricName=\"r2\")\n",
        "r2 = dt_evaluator.evaluate(dt_predictions)\n",
        "print(\"R2 score = %g\" % r2)"
      ]
    },
    {
      "cell_type": "code",
      "source": [
        "train_df.show()"
      ],
      "metadata": {
        "colab": {
          "base_uri": "https://localhost:8080/"
        },
        "id": "D9pE_1qG1ahF",
        "outputId": "9abf51b3-0e5d-4f39-bcd6-46d2ec9b6bcd"
      },
      "execution_count": 53,
      "outputs": [
        {
          "output_type": "stream",
          "name": "stdout",
          "text": [
            "+--------------------+----------+\n",
            "|            features|LoanAmount|\n",
            "+--------------------+----------+\n",
            "|(15,[0,1,2,3,4,6,...|     138.0|\n",
            "|(15,[0,1,2,3,4,6,...|     180.0|\n",
            "|(15,[0,1,2,3,4,6,...|     120.0|\n",
            "|(15,[0,1,2,3,4,6,...|     187.0|\n",
            "|(15,[0,1,2,3,4,6,...|     100.0|\n",
            "|(15,[0,1,2,3,4,6,...|     152.0|\n",
            "|(15,[0,1,2,3,4,6,...|     110.0|\n",
            "|(15,[0,1,2,3,4,6,...|     152.0|\n",
            "|(15,[0,1,2,3,4,6,...|     130.0|\n",
            "|(15,[0,1,2,3,4,6,...|     106.0|\n",
            "|(15,[0,1,2,3,4,6,...|     187.0|\n",
            "|(15,[0,1,2,3,4,6,...|     209.0|\n",
            "|(15,[0,1,2,3,4,7,...|     125.0|\n",
            "|(15,[0,1,2,3,4,7,...|     108.0|\n",
            "|(15,[0,1,2,3,4,7,...|     123.0|\n",
            "|(15,[0,1,2,3,5,6,...|     104.0|\n",
            "|(15,[0,1,2,3,5,6,...|     108.0|\n",
            "|(15,[0,1,2,3,5,6,...|     200.0|\n",
            "|(15,[0,1,2,3,5,6,...|     165.0|\n",
            "|(15,[0,1,2,3,5,6,...|     122.0|\n",
            "+--------------------+----------+\n",
            "only showing top 20 rows\n",
            "\n"
          ]
        }
      ]
    },
    {
      "cell_type": "code",
      "source": [
        "\n",
        "from pyspark.ml.tuning import ParamGridBuilder, CrossValidator\n",
        "dt_hyper=DecisionTreeRegressor(featuresCol = 'features', labelCol = 'LoanAmount')\n",
        "\n",
        "#Hyper-Parameter Tuning\n",
        "paramGrid_dt = ParamGridBuilder() \\\n",
        "    .addGrid(dt_hyper.maxDepth, [5, 7]) \\\n",
        "    .addGrid(dt_hyper.maxBins, [10,20]) \\\n",
        "    .build()\n",
        "crossval_dt = CrossValidator(estimator=dt_hyper,\n",
        "                             estimatorParamMaps=paramGrid_dt,\n",
        "                             evaluator=RegressionEvaluator(labelCol=\"LoanAmount\"),\n",
        "                             numFolds=5)\n",
        "\n",
        "#fit model to data train\n",
        "dt_model_hyper = crossval_dt.fit(train_df)"
      ],
      "metadata": {
        "id": "uP_zTyYJzCEI"
      },
      "execution_count": 57,
      "outputs": []
    },
    {
      "cell_type": "code",
      "source": [
        "#Transform model to data test\n",
        "dt_prediction_hyper= dt_model_hyper.transform(test_df)"
      ],
      "metadata": {
        "id": "0i1tdcI05Zmg"
      },
      "execution_count": 59,
      "outputs": []
    },
    {
      "cell_type": "code",
      "source": [
        "#View prediction, label and featues from prediction\n",
        "dt_prediction_hyper.select(\"prediction\",\"LoanAmount\",\"features\").show(5)"
      ],
      "metadata": {
        "colab": {
          "base_uri": "https://localhost:8080/"
        },
        "id": "UP8gEpT95zAx",
        "outputId": "eb40b252-e5ee-4ae8-e021-47f48810c3e7"
      },
      "execution_count": 61,
      "outputs": [
        {
          "output_type": "stream",
          "name": "stdout",
          "text": [
            "+------------------+----------+--------------------+\n",
            "|        prediction|LoanAmount|            features|\n",
            "+------------------+----------+--------------------+\n",
            "|             114.9|     104.0|(15,[0,1,2,3,4,6,...|\n",
            "|             114.9|     125.0|(15,[0,1,2,3,4,6,...|\n",
            "|164.53703703703704|     155.0|(15,[0,1,2,3,4,6,...|\n",
            "|118.92156862745098|     138.0|(15,[0,1,2,3,4,6,...|\n",
            "|             114.9|     122.0|(15,[0,1,2,3,4,6,...|\n",
            "+------------------+----------+--------------------+\n",
            "only showing top 5 rows\n",
            "\n"
          ]
        }
      ]
    },
    {
      "cell_type": "code",
      "source": [
        "#Calculate RMSE\n",
        "eval_rmse=RegressionEvaluator(labelCol=\"LoanAmount\", predictionCol=\"prediction\", metricName=\"rmse\")\n",
        "print(\"Root Mean Squared Error (RMSE) on Decision Tree Model=%g\" % eval_rmse.evaluate(dt_prediction_hyper))"
      ],
      "metadata": {
        "colab": {
          "base_uri": "https://localhost:8080/"
        },
        "id": "-me1P7NC6c0l",
        "outputId": "eaf1d764-4ed0-407b-c155-d4c9f09ed48f"
      },
      "execution_count": 64,
      "outputs": [
        {
          "output_type": "stream",
          "name": "stdout",
          "text": [
            "Root Mean Squared Error (RMSE) on Decision Tree Model=47.7435\n"
          ]
        }
      ]
    },
    {
      "cell_type": "markdown",
      "metadata": {
        "id": "cSfIc0bgHFmZ"
      },
      "source": [
        "## Gradient-boosted tree regression"
      ]
    },
    {
      "cell_type": "code",
      "execution_count": 48,
      "metadata": {
        "colab": {
          "base_uri": "https://localhost:8080/"
        },
        "id": "4NMc8U2RHFEt",
        "outputId": "9e2945ac-324a-475b-e585-8b5b7853f63d"
      },
      "outputs": [
        {
          "output_type": "stream",
          "name": "stdout",
          "text": [
            "+------------------+----------+--------------------+\n",
            "|        prediction|LoanAmount|            features|\n",
            "+------------------+----------+--------------------+\n",
            "|153.81934944740289|     138.0|(15,[0,1,2,3,4,6,...|\n",
            "| 86.38288206307196|     125.0|(15,[0,1,2,3,4,6,...|\n",
            "| 210.2617166655304|     155.0|(15,[0,1,2,3,4,6,...|\n",
            "|124.97702474519572|     138.0|(15,[0,1,2,3,4,6,...|\n",
            "| 161.6157894479196|     200.0|(15,[0,1,2,3,4,6,...|\n",
            "+------------------+----------+--------------------+\n",
            "only showing top 5 rows\n",
            "\n"
          ]
        }
      ],
      "source": [
        "from pyspark.ml.regression import GBTRegressor\n",
        "gbt = GBTRegressor(featuresCol = 'features', labelCol = 'LoanAmount', maxIter=10)\n",
        "gbt_model = gbt.fit(train_df)\n",
        "gbt_predictions = gbt_model.transform(test_df)\n",
        "gbt_predictions.select('prediction', 'LoanAmount', 'features').show(5)"
      ]
    },
    {
      "cell_type": "code",
      "execution_count": 49,
      "metadata": {
        "colab": {
          "base_uri": "https://localhost:8080/"
        },
        "id": "chtWW3UgHLo0",
        "outputId": "44b77530-543a-4b26-821b-3619fe5f671a"
      },
      "outputs": [
        {
          "output_type": "stream",
          "name": "stdout",
          "text": [
            "Root Mean Squared Error (RMSE) on test data = 46.8072\n"
          ]
        }
      ],
      "source": [
        "gbt_evaluator = RegressionEvaluator(\n",
        "    labelCol=\"LoanAmount\", predictionCol=\"prediction\", metricName=\"rmse\")\n",
        "rmse = gbt_evaluator.evaluate(gbt_predictions)\n",
        "print(\"Root Mean Squared Error (RMSE) on test data = %g\" % rmse)"
      ]
    },
    {
      "cell_type": "code",
      "source": [],
      "metadata": {
        "id": "ICTeYHjVYB31"
      },
      "execution_count": null,
      "outputs": []
    }
  ],
  "metadata": {
    "colab": {
      "gpuType": "T4",
      "provenance": []
    },
    "kernelspec": {
      "display_name": "Python 3 (ipykernel)",
      "language": "python",
      "name": "python3"
    },
    "language_info": {
      "codemirror_mode": {
        "name": "ipython",
        "version": 3
      },
      "file_extension": ".py",
      "mimetype": "text/x-python",
      "name": "python",
      "nbconvert_exporter": "python",
      "pygments_lexer": "ipython3",
      "version": "3.12.7"
    }
  },
  "nbformat": 4,
  "nbformat_minor": 0
}